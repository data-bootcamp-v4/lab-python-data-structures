{
 "cells": [
  {
   "cell_type": "markdown",
   "metadata": {
    "tags": []
   },
   "source": [
    "# Lab | Data Structures "
   ]
  },
  {
   "cell_type": "markdown",
   "metadata": {},
   "source": [
    "## Exercise: Managing Customer Orders\n",
    "\n",
    "As part of a business venture, you are starting an online store that sells various products. To ensure smooth operations, you need to develop a program that manages customer orders and inventory.\n",
    "\n",
    "Follow the steps below to complete the exercise:\n",
    "\n",
    "1. Define a list called `products` that contains the following items: \"t-shirt\", \"mug\", \"hat\", \"book\", \"keychain\".\n",
    "\n",
    "2. Create an empty dictionary called `inventory`.\n",
    "\n",
    "3. Ask the user to input the quantity of each product available in the inventory. Use the product names from the `products` list as keys in the `inventory` dictionary and assign the respective quantities as values.\n",
    "\n",
    "4. Create an empty set called `customer_orders`.\n",
    "\n",
    "5. Ask the user to input the name of three products that a customer wants to order. Add each product name to the `customer_orders` set.\n",
    "\n",
    "6. Print the products in the `customer_orders` set.\n",
    "\n",
    "7. Calculate the following order statistics:\n",
    "   - Total Products Ordered: The total number of products in the `customer_orders` set.\n",
    "   - Unique Products Ordered: The number of unique products in the `customer_orders` set.\n",
    "   - Percentage of Unique Products Ordered: The percentage of unique products ordered compared to the total available products.\n",
    "   \n",
    "   Store these statistics in a tuple called `order_status`.\n",
    "\n",
    "8. Print the order statistics using the following format:\n",
    "   ```\n",
    "   Order Statistics:\n",
    "   Total Products Ordered: <total_products_ordered>\n",
    "   Unique Products Ordered: <unique_products_ordered>\n",
    "   Percentage of Unique Products Ordered: <percentage_ordered>% \n",
    "   ```\n",
    "\n",
    "9. Update the inventory by subtracting 1 from the quantity of each product. Modify the `inventory` dictionary accordingly.\n",
    "\n",
    "10. Print the updated inventory, displaying the quantity of each product on separate lines.\n",
    "\n",
    "Solve the exercise by implementing the steps using the Python concepts of lists, dictionaries, sets, and basic input/output operations. "
   ]
  },
  {
   "cell_type": "code",
   "execution_count": 1,
   "metadata": {},
   "outputs": [],
   "source": [
    "products = [\"t-shirt\", \"mug\", \"hat\", \"book\", \"keychain\"]\n",
    "inventory = {}"
   ]
  },
  {
   "cell_type": "code",
   "execution_count": 2,
   "metadata": {},
   "outputs": [
    {
     "name": "stdout",
     "output_type": "stream",
     "text": [
      "Input quantity for item t-shirt:34\n",
      "Input quantity for item mug:t\n",
      "You must enter an integer.\n",
      "Input quantity for item mug:t\n",
      "You must enter an integer.\n",
      "Input quantity for item mug:23\n",
      "Input quantity for item hat:13\n",
      "Input quantity for item book:244\n",
      "Input quantity for item keychain:1123\n"
     ]
    }
   ],
   "source": [
    "for product in products:\n",
    "    while True:\n",
    "        try:\n",
    "            inventory[product] = int(input(f'Input quantity for item {product}:'))\n",
    "        except ValueError:\n",
    "            print('You must enter a valid integer.')\n",
    "            continue\n",
    "        else:\n",
    "            break"
   ]
  },
  {
   "cell_type": "code",
   "execution_count": 4,
   "metadata": {},
   "outputs": [],
   "source": [
    "# for product in products:\n",
    "#     inventory[product] = input(f'Input quantity for item {product}:')"
   ]
  },
  {
   "cell_type": "code",
   "execution_count": 8,
   "metadata": {},
   "outputs": [
    {
     "data": {
      "text/plain": [
       "{'t-shirt': 34, 'mug': 23, 'hat': 13, 'book': 244, 'keychain': 1123}"
      ]
     },
     "execution_count": 8,
     "metadata": {},
     "output_type": "execute_result"
    }
   ],
   "source": [
    "inventory"
   ]
  },
  {
   "cell_type": "code",
   "execution_count": 9,
   "metadata": {},
   "outputs": [],
   "source": [
    "customer_orders = set()"
   ]
  },
  {
   "cell_type": "code",
   "execution_count": 10,
   "metadata": {},
   "outputs": [
    {
     "name": "stdout",
     "output_type": "stream",
     "text": [
      "Please enter the name of three products that the customer wants to order.\n",
      "Please note that the product must be in the inventory.\n",
      "Product 1:hat\n",
      "Product 2:pebble\n",
      "Product must be in the inventory.\n",
      "Product 2:ciccio\n",
      "Product must be in the inventory.\n",
      "Product 2:keychain\n",
      "Product 3:mug\n"
     ]
    }
   ],
   "source": [
    "print('Please enter the name of three products that the customer wants to order.')\n",
    "print('Please note that the product must be in the inventory.')\n",
    "\n",
    "for i in range(3):\n",
    "    while True:\n",
    "        tmp = input(f'Product {i+1}:')\n",
    "        if tmp in inventory.keys():\n",
    "            customer_orders.add(tmp)\n",
    "            break\n",
    "        else:\n",
    "            print('Product must be in the inventory.')\n",
    "            continue\n",
    "\n",
    "            \n"
   ]
  },
  {
   "cell_type": "code",
   "execution_count": 11,
   "metadata": {},
   "outputs": [],
   "source": [
    "# print('Please enter the name of three products that the customer wants to order.\\n')\n",
    "# for i in range(3):\n",
    "#     customer_orders.add(input(f'Product {i+1}:'))"
   ]
  },
  {
   "cell_type": "code",
   "execution_count": 12,
   "metadata": {},
   "outputs": [
    {
     "name": "stdout",
     "output_type": "stream",
     "text": [
      "\n",
      "The following products are in the customer wishlist:\n",
      "mug\n",
      "keychain\n",
      "hat\n"
     ]
    }
   ],
   "source": [
    "print('\\nThe following products are in the customer wishlist:')\n",
    "for item in customer_orders:\n",
    "    print(item)"
   ]
  },
  {
   "cell_type": "code",
   "execution_count": 13,
   "metadata": {},
   "outputs": [],
   "source": [
    "tot_prod_ordered = len(customer_orders)\n",
    "unique_prod_ordered = len(customer_orders)\n",
    "pcg_unique_prod_ordered = (unique_prod_ordered/len(inventory.keys()))*100"
   ]
  },
  {
   "cell_type": "code",
   "execution_count": 14,
   "metadata": {},
   "outputs": [],
   "source": [
    "order_status = (tot_prod_ordered, unique_prod_ordered, pcg_unique_prod_ordered)"
   ]
  },
  {
   "cell_type": "code",
   "execution_count": 15,
   "metadata": {},
   "outputs": [
    {
     "name": "stdout",
     "output_type": "stream",
     "text": [
      "Order statistics:\n",
      "Total products ordered: 3\n",
      "Unique products ordered: 3\n",
      "Percentage of unique products ordered: 60.0%\n"
     ]
    }
   ],
   "source": [
    "print('Order statistics:')\n",
    "print(f'Total products ordered: {order_status[0]}')\n",
    "print(f'Unique products ordered: {order_status[1]}')\n",
    "print(f'Percentage of unique products ordered: {order_status[2]}%')"
   ]
  },
  {
   "cell_type": "code",
   "execution_count": 16,
   "metadata": {},
   "outputs": [
    {
     "name": "stdout",
     "output_type": "stream",
     "text": [
      "t-shirt 34\n",
      "mug 23\n",
      "hat 13\n",
      "book 244\n",
      "keychain 1123\n"
     ]
    }
   ],
   "source": [
    "updated_inventory = inventory\n",
    "for k, v in updated_inventory.items():\n",
    "    updated_inventory[k] = int(v)-1\n",
    "    print(k, v)"
   ]
  },
  {
   "cell_type": "code",
   "execution_count": null,
   "metadata": {},
   "outputs": [],
   "source": []
  }
 ],
 "metadata": {
  "kernelspec": {
   "display_name": "Python 3 (ipykernel)",
   "language": "python",
   "name": "python3"
  },
  "language_info": {
   "codemirror_mode": {
    "name": "ipython",
    "version": 3
   },
   "file_extension": ".py",
   "mimetype": "text/x-python",
   "name": "python",
   "nbconvert_exporter": "python",
   "pygments_lexer": "ipython3",
   "version": "3.10.9"
  }
 },
 "nbformat": 4,
 "nbformat_minor": 4
}
