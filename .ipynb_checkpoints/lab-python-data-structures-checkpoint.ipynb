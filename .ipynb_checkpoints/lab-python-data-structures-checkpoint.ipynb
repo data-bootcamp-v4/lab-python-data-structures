{
 "cells": [
  {
   "cell_type": "markdown",
   "metadata": {
    "tags": []
   },
   "source": [
    "# Lab | Data Structures "
   ]
  },
  {
   "cell_type": "markdown",
   "metadata": {},
   "source": [
    "## Exercise: Managing Customer Orders\n",
    "\n",
    "As part of a business venture, you are starting an online store that sells various products. To ensure smooth operations, you need to develop a program that manages customer orders and inventory.\n",
    "\n",
    "Follow the steps below to complete the exercise:\n",
    "\n",
    "1. Define a list called `products` that contains the following items: \"t-shirt\", \"mug\", \"hat\", \"book\", \"keychain\".\n",
    "\n",
    "2. Create an empty dictionary called `inventory`.\n",
    "\n",
    "3. Ask the user to input the quantity of each product available in the inventory. Use the product names from the `products` list as keys in the `inventory` dictionary and assign the respective quantities as values.\n",
    "\n",
    "4. Create an empty set called `customer_orders`.\n",
    "\n",
    "5. Ask the user to input the name of three products that a customer wants to order (from those in the products list, meaning three products out of \"t-shirt\", \"mug\", \"hat\", \"book\" or \"keychain\". Add each product name to the `customer_orders` set.\n",
    "\n",
    "6. Print the products in the `customer_orders` set.\n",
    "\n",
    "7. Calculate the following order statistics:\n",
    "   - Total Products Ordered: The total number of products in the `customer_orders` set.\n",
    "   - Percentage of Products Ordered: The percentage of products ordered compared to the total available products.\n",
    "   \n",
    "   Store these statistics in a tuple called `order_status`.\n",
    "\n",
    "8. Print the order statistics using the following format:\n",
    "   ```\n",
    "   Order Statistics:\n",
    "   Total Products Ordered: <total_products_ordered>\n",
    "   Percentage of Products Ordered: <percentage_ordered>% \n",
    "   ```\n",
    "\n",
    "9. Update the inventory by subtracting 1 from the quantity of each product. Modify the `inventory` dictionary accordingly.\n",
    "\n",
    "10. Print the updated inventory, displaying the quantity of each product on separate lines.\n",
    "\n",
    "Solve the exercise by implementing the steps using the Python concepts of lists, dictionaries, sets, and basic input/output operations. "
   ]
  },
  {
   "cell_type": "code",
   "execution_count": 92,
   "metadata": {},
   "outputs": [
    {
     "name": "stdin",
     "output_type": "stream",
     "text": [
      "input the quantity for t-shirt: 23\n",
      "input the quantity for mug: 34\n",
      "input the quantity for hat: 45\n",
      "input the quantity for book: 56\n",
      "input the quantity for keychain: 67\n"
     ]
    },
    {
     "name": "stdout",
     "output_type": "stream",
     "text": [
      "Inventory\n",
      "t-shirt : 23\n",
      "mug : 34\n",
      "hat : 45\n",
      "book : 56\n",
      "keychain : 67\n",
      "Input the names of three products\n"
     ]
    },
    {
     "name": "stdin",
     "output_type": "stream",
     "text": [
      "Choose 1 product you want to oder: mug\n",
      "Choose 2 product you want to oder: hat\n",
      "Choose 3 product you want to oder: book\n"
     ]
    },
    {
     "name": "stdout",
     "output_type": "stream",
     "text": [
      "Costomer odered:{'hat', 'mug', 'book'}\n",
      "Order statistics\n",
      "Total Products Ordered: 3\n",
      "Percentage of Products Ordered 60.0%\n",
      "Inventory after the orders\n",
      "t-shirt : 23\n",
      "mug : 33\n",
      "hat : 44\n",
      "book : 55\n",
      "keychain : 67\n"
     ]
    }
   ],
   "source": [
    "# Define a list called products that contains the following items: \"t-shirt\", \"mug\", \"hat\", \"book\", \"keychain\".\n",
    "products = [\"t-shirt\", \"mug\", \"hat\", \"book\", \"keychain\"]\n",
    "\n",
    "# Create an empty dictionary called inventory.\n",
    "inventory = {}\n",
    "\n",
    "# Ask the user to input the quantity of each product available in the inventory. \n",
    "\n",
    "for product in products:\n",
    "\n",
    "    quantity  =  int(input(f'input the quantity for {product}:'))\n",
    "    inventory[product] = quantity\n",
    "\n",
    "print (\"Inventory\")\n",
    "\n",
    "# Create an empty set called customer_orders.\n",
    "\n",
    "customer_orders = set()\n",
    "\n",
    "for key, value in inventory.items():\n",
    "    print (key, ':', value)\n",
    "\n",
    "# Ask the user to input the name of three products. Add each product name to the customer_orders set.\n",
    "\n",
    "print (\"Input the names of three products\")\n",
    "bucket = 0\n",
    "while bucket in range(3):\n",
    "    order = input (f\"Choose {bucket+1} product you want to oder:\")\n",
    "    if order in products:\n",
    "      customer_orders.add(order)\n",
    "      bucket = bucket + 1\n",
    "    else:\n",
    "        print (\"The product is not in our list\")\n",
    "        \n",
    "print (f'Costomer odered:{customer_orders}')\n",
    "\n",
    "# Calculate the following order statistics:\n",
    "# Total Products Ordered: The total number of products in the customer_orders set.\n",
    "\n",
    "total_products_ordered = len(customer_orders)\n",
    "\n",
    "# Percentage of Products Ordered: The percentage of products ordered compared to the total available products.\n",
    "\n",
    "percentage_of_products_ordered = total_products_ordered/len(products)*100\n",
    "\n",
    "# Store these statistics in a tuple called order_status\n",
    "\n",
    "order_status = (total_products_ordered, percentage_of_products_ordered)\n",
    "\n",
    "print('Order statistics')\n",
    "print (f'Total Products Ordered: {total_products_ordered}')\n",
    "print (f'Percentage of Products Ordered {percentage_of_products_ordered}%')\n",
    "\n",
    "for product in customer_orders:\n",
    "    inventory[product]= int(inventory[product])-1\n",
    "\n",
    "print (\"Inventory after the orders\")\n",
    "for key, value in inventory.items():\n",
    "    print (key, ':', value)"
   ]
  }
 ],
 "metadata": {
  "kernelspec": {
   "display_name": "Python 3 (ipykernel)",
   "language": "python",
   "name": "python3"
  },
  "language_info": {
   "codemirror_mode": {
    "name": "ipython",
    "version": 3
   },
   "file_extension": ".py",
   "mimetype": "text/x-python",
   "name": "python",
   "nbconvert_exporter": "python",
   "pygments_lexer": "ipython3",
   "version": "3.11.7"
  }
 },
 "nbformat": 4,
 "nbformat_minor": 4
}
