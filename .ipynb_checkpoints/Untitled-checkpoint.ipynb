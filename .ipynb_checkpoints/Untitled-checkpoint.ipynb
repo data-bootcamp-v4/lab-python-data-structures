{
 "cells": [
  {
   "cell_type": "code",
   "execution_count": 1,
   "id": "33e4ccca",
   "metadata": {},
   "outputs": [],
   "source": [
    "products = [\"t-shirt\", \"mug\", \"hat\", \"book\", \"keychain\"]"
   ]
  },
  {
   "cell_type": "code",
   "execution_count": 2,
   "id": "a3ed2ab4",
   "metadata": {},
   "outputs": [],
   "source": [
    "inventory = {}"
   ]
  },
  {
   "cell_type": "code",
   "execution_count": 3,
   "id": "d1d00b55",
   "metadata": {},
   "outputs": [
    {
     "name": "stdout",
     "output_type": "stream",
     "text": [
      "Please enter the number of products:1\n",
      "Please enter the number of products:1\n",
      "Please enter the number of products:1\n",
      "Please enter the number of products:1\n",
      "Please enter the number of products:1\n"
     ]
    }
   ],
   "source": [
    "for product in products:\n",
    "    quantity = int(input(\"Please enter the number of products:\"))\n",
    "    inventory[product] = quantity"
   ]
  },
  {
   "cell_type": "code",
   "execution_count": 4,
   "id": "eb4b5440",
   "metadata": {},
   "outputs": [
    {
     "data": {
      "text/plain": [
       "{'t-shirt': 1, 'mug': 1, 'hat': 1, 'book': 1, 'keychain': 1}"
      ]
     },
     "execution_count": 4,
     "metadata": {},
     "output_type": "execute_result"
    }
   ],
   "source": [
    "inventory"
   ]
  },
  {
   "cell_type": "code",
   "execution_count": 22,
   "id": "6c28df8a",
   "metadata": {},
   "outputs": [],
   "source": [
    "customer_orders = set()"
   ]
  },
  {
   "cell_type": "code",
   "execution_count": 23,
   "id": "c6be1187",
   "metadata": {},
   "outputs": [
    {
     "name": "stdout",
     "output_type": "stream",
     "text": [
      "Please enter the name of the product to be ordered:book\n",
      "Please enter the name of the product to be ordered:hat\n",
      "Please enter the name of the product to be ordered:mug\n"
     ]
    }
   ],
   "source": [
    "for order in range(3):\n",
    "    product = input(\"Please enter the name of the product to be ordered:\")\n",
    "    customer_orders.add(product)"
   ]
  },
  {
   "cell_type": "code",
   "execution_count": 24,
   "id": "b11159d2",
   "metadata": {},
   "outputs": [
    {
     "name": "stdout",
     "output_type": "stream",
     "text": [
      "{'mug', 'book', 'hat'}\n"
     ]
    }
   ],
   "source": [
    "print(customer_orders)"
   ]
  },
  {
   "cell_type": "code",
   "execution_count": null,
   "id": "9d38d465",
   "metadata": {},
   "outputs": [],
   "source": [
    "total_products_ordered = inventory[product1] + inventory[product2] + inventory[product3]"
   ]
  },
  {
   "cell_type": "code",
   "execution_count": null,
   "id": "c6193776",
   "metadata": {},
   "outputs": [],
   "source": [
    "print(total_products_ordered)"
   ]
  },
  {
   "cell_type": "code",
   "execution_count": null,
   "id": "4c8d2056",
   "metadata": {},
   "outputs": [],
   "source": []
  }
 ],
 "metadata": {
  "kernelspec": {
   "display_name": "Python 3 (ipykernel)",
   "language": "python",
   "name": "python3"
  },
  "language_info": {
   "codemirror_mode": {
    "name": "ipython",
    "version": 3
   },
   "file_extension": ".py",
   "mimetype": "text/x-python",
   "name": "python",
   "nbconvert_exporter": "python",
   "pygments_lexer": "ipython3",
   "version": "3.10.9"
  }
 },
 "nbformat": 4,
 "nbformat_minor": 5
}
