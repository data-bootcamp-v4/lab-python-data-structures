{
 "cells": [
  {
   "cell_type": "markdown",
   "id": "d238ab28",
   "metadata": {},
   "source": [
    "Dev Team Key Topics:\n",
    "\n",
    "* Day 1: Create dictionaries and lists serving as game data structures.\n",
    "* Day 2: Define functions and introduce flow control logic.\n",
    "* Day 3: Refine functions and flow control, adding interactivity.\n",
    "* Day 4: Finish implementing all of the game’s code.\n",
    "\n",
    "Research Team Key Topics:\n",
    "\n",
    "* Day 1: Learning how to read Python error messages, function documentation and reinforce understanding of Python data structures and flow control.\n",
    "* Day 2: Learn about Python modules and packages, structuring code.\n",
    "* day 3: Learn about good coding practices, including clean, readable code and proper documentation.\n",
    "* Day 4: Review list and dictionary comprehensions, read about Python testing"
   ]
  },
  {
   "cell_type": "code",
   "execution_count": 1,
   "id": "fafd1751",
   "metadata": {},
   "outputs": [],
   "source": [
    "list_of_keys = [\"key A\", \"key B\", \"key C\", \"key D\"]"
   ]
  },
  {
   "cell_type": "code",
   "execution_count": 2,
   "id": "2d30a71e",
   "metadata": {},
   "outputs": [],
   "source": [
    "list_of_doors = [\"Door A\", \"Door B\", \"Door C\", \"Door D\"]"
   ]
  },
  {
   "cell_type": "code",
   "execution_count": null,
   "id": "58910616",
   "metadata": {},
   "outputs": [],
   "source": [
    "Game_Room = ['Couch','Piano','Door A']\n",
    "Bedroom_1 = ['Queen Bed','Door A','Door B','Door C']\n",
    "Bedroom_2 = ['Double Bed','Dresser', 'Door B']\n",
    "Livin"
   ]
  }
 ],
 "metadata": {
  "kernelspec": {
   "display_name": "Python 3 (ipykernel)",
   "language": "python",
   "name": "python3"
  },
  "language_info": {
   "codemirror_mode": {
    "name": "ipython",
    "version": 3
   },
   "file_extension": ".py",
   "mimetype": "text/x-python",
   "name": "python",
   "nbconvert_exporter": "python",
   "pygments_lexer": "ipython3",
   "version": "3.9.13"
  }
 },
 "nbformat": 4,
 "nbformat_minor": 5
}
