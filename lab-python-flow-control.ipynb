{
 "cells": [
  {
   "cell_type": "markdown",
   "id": "d3bfc191-8885-42ee-b0a0-bbab867c6f9f",
   "metadata": {
    "tags": []
   },
   "source": [
    "# Lab | Flow Control"
   ]
  },
  {
   "cell_type": "markdown",
   "id": "3851fcd1-cf98-4653-9c89-e003b7ec9400",
   "metadata": {},
   "source": [
    "## Exercise: Managing Customer Orders Optimized\n",
    "\n",
    "In the last lab, you were starting an online store that sells various products. To ensure smooth operations, you developed a program that manages customer orders and inventory.\n",
    "\n",
    "You did so without using flow control. Let's go a step further and improve this code.\n",
    "\n",
    "Follow the steps below to complete the exercise:\n",
    "\n",
    "1. Look at your code from the lab data structures, and improve repeated code with loops.\n",
    "\n",
    "2. Instead of asking the user to input the name of three products that a customer wants to order, do the following:\n",
    "    \n",
    "    a. Prompt the user to enter the name of a product that a customer wants to order.\n",
    "    \n",
    "    b. Add the product name to the \"customer_orders\" set.\n",
    "    \n",
    "    c. Ask the user if they want to add another product (yes/no).\n",
    "    \n",
    "    d. Continue the loop until the user does not want to add another product.\n",
    "\n",
    "3. Instead of updating the inventory by subtracting 1 from the quantity of each product, only do it for  the products that were ordered (those in \"customer_orders\")."
   ]
  },
  {
   "cell_type": "code",
   "execution_count": 1,
   "id": "8e963db6",
   "metadata": {},
   "outputs": [],
   "source": [
    "products = [\"t-shirt\", \"mug\", \"hat\", \"book\", \"keychain\"]"
   ]
  },
  {
   "cell_type": "code",
   "execution_count": 2,
   "id": "e03b22a7",
   "metadata": {},
   "outputs": [],
   "source": [
    "inventory = {}"
   ]
  },
  {
   "cell_type": "code",
   "execution_count": 3,
   "id": "94c24c48",
   "metadata": {},
   "outputs": [
    {
     "name": "stdout",
     "output_type": "stream",
     "text": [
      "The inventory of t-shirt\n",
      "Enter the quantity of this product 8\n",
      "The inventory of mug\n",
      "Enter the quantity of this product 10\n",
      "The inventory of hat\n",
      "Enter the quantity of this product 7\n",
      "The inventory of book\n",
      "Enter the quantity of this product 5\n",
      "The inventory of keychain\n",
      "Enter the quantity of this product 6\n"
     ]
    }
   ],
   "source": [
    "for product in products:\n",
    "    print(\"The inventory of\", product)\n",
    "    inv = int(input(\"Enter the quantity of this product \"))\n",
    "    inventory[product] = inv"
   ]
  },
  {
   "cell_type": "code",
   "execution_count": 4,
   "id": "56f02cfb",
   "metadata": {},
   "outputs": [
    {
     "data": {
      "text/plain": [
       "{'t-shirt': 8, 'mug': 10, 'hat': 7, 'book': 5, 'keychain': 6}"
      ]
     },
     "execution_count": 4,
     "metadata": {},
     "output_type": "execute_result"
    }
   ],
   "source": [
    "inventory"
   ]
  },
  {
   "cell_type": "code",
   "execution_count": 5,
   "id": "671a2a52",
   "metadata": {},
   "outputs": [],
   "source": [
    "customer_orders = set()"
   ]
  },
  {
   "cell_type": "code",
   "execution_count": 6,
   "id": "b499a2b3",
   "metadata": {},
   "outputs": [
    {
     "name": "stdout",
     "output_type": "stream",
     "text": [
      "Enter the name of the product you want to purchase: hat\n",
      "Do you want to purchase another product? please answer with yes or no: yes\n",
      "Enter the name of the product you want to purchase: mug\n",
      "Do you want to purchase another product? please answer with yes or no: no\n"
     ]
    }
   ],
   "source": [
    "while True:\n",
    "    order = input(\"Enter the name of the product you want to purchase: \")\n",
    "    customer_orders.add(order)\n",
    "    choose = input(\"Do you want to purchase another product? please answer with yes or no: \")\n",
    "    if choose != \"yes\":\n",
    "        break"
   ]
  },
  {
   "cell_type": "code",
   "execution_count": 7,
   "id": "a235383e",
   "metadata": {},
   "outputs": [
    {
     "data": {
      "text/plain": [
       "{'hat', 'mug'}"
      ]
     },
     "execution_count": 7,
     "metadata": {},
     "output_type": "execute_result"
    }
   ],
   "source": [
    "customer_orders"
   ]
  },
  {
   "cell_type": "code",
   "execution_count": 8,
   "id": "7ef57ada",
   "metadata": {},
   "outputs": [
    {
     "data": {
      "text/plain": [
       "2"
      ]
     },
     "execution_count": 8,
     "metadata": {},
     "output_type": "execute_result"
    }
   ],
   "source": [
    "total_orders = len(customer_orders)\n",
    "total_orders"
   ]
  },
  {
   "cell_type": "code",
   "execution_count": 9,
   "id": "906cff87",
   "metadata": {},
   "outputs": [],
   "source": [
    "list_of_products = []"
   ]
  },
  {
   "cell_type": "code",
   "execution_count": 10,
   "id": "f071a0ce",
   "metadata": {},
   "outputs": [],
   "source": [
    "for element in inventory.values():\n",
    "    list_of_products.append(element)"
   ]
  },
  {
   "cell_type": "code",
   "execution_count": 11,
   "id": "8a1a130d",
   "metadata": {},
   "outputs": [
    {
     "data": {
      "text/plain": [
       "[8, 10, 7, 5, 6]"
      ]
     },
     "execution_count": 11,
     "metadata": {},
     "output_type": "execute_result"
    }
   ],
   "source": [
    "list_of_products"
   ]
  },
  {
   "cell_type": "code",
   "execution_count": 14,
   "id": "af4910c5",
   "metadata": {},
   "outputs": [
    {
     "data": {
      "text/plain": [
       "36"
      ]
     },
     "execution_count": 14,
     "metadata": {},
     "output_type": "execute_result"
    }
   ],
   "source": [
    "total = sum(list_of_products)\n",
    "total"
   ]
  },
  {
   "cell_type": "code",
   "execution_count": 15,
   "id": "d81b9193",
   "metadata": {},
   "outputs": [
    {
     "data": {
      "text/plain": [
       "5.555555555555555"
      ]
     },
     "execution_count": 15,
     "metadata": {},
     "output_type": "execute_result"
    }
   ],
   "source": [
    "percentage_of_orders = (total_orders/total)*100\n",
    "percentage_of_orders"
   ]
  },
  {
   "cell_type": "code",
   "execution_count": 16,
   "id": "a8d63cc3",
   "metadata": {},
   "outputs": [
    {
     "data": {
      "text/plain": [
       "5.555555555555555"
      ]
     },
     "execution_count": 16,
     "metadata": {},
     "output_type": "execute_result"
    }
   ],
   "source": [
    "order_status = (percentage_of_orders)\n",
    "order_status"
   ]
  },
  {
   "cell_type": "code",
   "execution_count": 17,
   "id": "a24d6ec0",
   "metadata": {},
   "outputs": [
    {
     "data": {
      "text/plain": [
       "{'t-shirt': 8, 'mug': 9, 'hat': 6, 'book': 5, 'keychain': 6}"
      ]
     },
     "execution_count": 17,
     "metadata": {},
     "output_type": "execute_result"
    }
   ],
   "source": [
    "for product in customer_orders:\n",
    "    if product in inventory.keys():\n",
    "        inventory[product] -= 1\n",
    "\n",
    "inventory"
   ]
  },
  {
   "cell_type": "code",
   "execution_count": 18,
   "id": "c14da4d2",
   "metadata": {},
   "outputs": [
    {
     "name": "stdout",
     "output_type": "stream",
     "text": [
      "The Quantity of  t-shirt  is 8\n",
      "The Quantity of  mug  is 9\n",
      "The Quantity of  hat  is 6\n",
      "The Quantity of  book  is 5\n",
      "The Quantity of  keychain  is 6\n"
     ]
    }
   ],
   "source": [
    "for keys, values in inventory.items():\n",
    "    print(\"The Quantity of \", keys, \" is\", values)"
   ]
  },
  {
   "cell_type": "code",
   "execution_count": 19,
   "id": "9bc135b1",
   "metadata": {},
   "outputs": [
    {
     "name": "stdout",
     "output_type": "stream",
     "text": [
      "Order Statistics:\n",
      "total products ordered: 2\n"
     ]
    }
   ],
   "source": [
    "print(\"Order Statistics:\")\n",
    "\n",
    "print(\"total products ordered:\",total_orders )"
   ]
  }
 ],
 "metadata": {
  "kernelspec": {
   "display_name": "Python 3 (ipykernel)",
   "language": "python",
   "name": "python3"
  },
  "language_info": {
   "codemirror_mode": {
    "name": "ipython",
    "version": 3
   },
   "file_extension": ".py",
   "mimetype": "text/x-python",
   "name": "python",
   "nbconvert_exporter": "python",
   "pygments_lexer": "ipython3",
   "version": "3.9.13"
  }
 },
 "nbformat": 4,
 "nbformat_minor": 5
}
