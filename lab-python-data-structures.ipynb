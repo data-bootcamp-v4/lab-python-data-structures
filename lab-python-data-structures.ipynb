{
 "cells": [
  {
   "cell_type": "markdown",
   "metadata": {
    "tags": []
   },
   "source": [
    "# Lab | Data Structures "
   ]
  },
  {
   "cell_type": "code",
   "execution_count": 3,
   "metadata": {},
   "outputs": [
    {
     "name": "stdout",
     "output_type": "stream",
     "text": [
      "Customer Orders =  {'hat', 'mug'}\n",
      "Total Products Ordered: 2\n",
      "\n",
      "Order Statistics:\n",
      "Total Products Ordered: 2\n",
      "Unique Products Ordered: 20\n",
      "Percentage of Unique Products Ordered: 40.00 %\n",
      "\n",
      "Updated Inventory:\n",
      "t-shirt: 10\n",
      "mug: 9\n",
      "hat: 9\n",
      "book: 10\n",
      "keychain: 10\n"
     ]
    }
   ],
   "source": [
    "#1\n",
    "products = [\"t-shirt\", \"mug\",\"hat\", \"book\",\"keychain\" ] \n",
    "#2\n",
    "inventory = {}\n",
    "#4\n",
    "customer_orders = set()\n",
    "#3\n",
    "for list in products:\n",
    "    inventory[list] = int(input(f\"Type how many {list} has in the stock: \"))\n",
    "\n",
    "#5\n",
    "#for i in range (3):\n",
    "x = 0\n",
    "while x < 3:\n",
    "    a = str(input (f\"Choice 3 produts from {products} to order: \").lower())\n",
    "    if a in products:\n",
    "    #if a == \"t-shirt\" or a == \"mug\" or a == \"hat\" or a==  \"book\" or a == \"keychain\":\n",
    "        customer_orders.add(a)\n",
    "        x += 1\n",
    "    else:\n",
    "        print(\"The product isn´t on list! Try again\")\n",
    "        \n",
    "#6\n",
    "print(\"Customer Orders = \",customer_orders)\n",
    "\n",
    "#7\n",
    "print(f\"Total Products Ordered: {len(customer_orders)}\")\n",
    "sum_co = 0\n",
    "sum_in = 0\n",
    "for i in customer_orders:\n",
    "    sum_co += inventory[i]\n",
    "\n",
    "#print(f\"Unique Products Ordered: {sum_co}\")\n",
    "\n",
    "for i in inventory:\n",
    "    sum_in += inventory[i]\n",
    "    \n",
    "perc = sum_co/sum_in*100\n",
    "\n",
    "#print(f\"Percentage of Unique Products Ordered: {perc}%\")\n",
    "\n",
    "order_status = (len(customer_orders), sum_co, perc)\n",
    "#print(order_status)\n",
    "#8\n",
    "print(\"\\nOrder Statistics:\")\n",
    "print(f\"Total Products Ordered: {order_status[0]}\")\n",
    "print(f\"Unique Products Ordered: {order_status[1]}\")\n",
    "print(\"Percentage of Unique Products Ordered: {:.2f} %\".format(order_status[2]))\n",
    "\n",
    "\n",
    "\n",
    "#9\n",
    "for product in customer_orders:\n",
    "    inventory[product] -= 1\n",
    "    \n",
    "#10\n",
    "print(\"\\nUpdated Inventory:\")\n",
    "for product, quantity in inventory.items():\n",
    "    print(f\"{product}: {quantity}\")"
   ]
  },
  {
   "cell_type": "code",
   "execution_count": null,
   "metadata": {},
   "outputs": [],
   "source": []
  },
  {
   "cell_type": "markdown",
   "metadata": {},
   "source": [
    "## Exercise: Managing Customer Orders\n",
    "\n",
    "As part of a business venture, you are starting an online store that sells various products. To ensure smooth operations, you need to develop a program that manages customer orders and inventory.\n",
    "\n",
    "Follow the steps below to complete the exercise:\n",
    "\n",
    "1. Define a list called `products` that contains the following items: \"t-shirt\", \"mug\", \"hat\", \"book\", \"keychain\".\n",
    "\n",
    "2. Create an empty dictionary called `inventory`.\n",
    "\n",
    "3. Ask the user to input the quantity of each product available in the inventory. Use the product names from the `products` list as keys in the `inventory` dictionary and assign the respective quantities as values.\n",
    "\n",
    "4. Create an empty set called `customer_orders`.\n",
    "\n",
    "5. Ask the user to input the name of three products that a customer wants to order. Add each product name to the `customer_orders` set.\n",
    "\n",
    "6. Print the products in the `customer_orders` set.\n",
    "\n",
    "7. Calculate the following order statistics:\n",
    "   - Total Products Ordered: The total number of products in the `customer_orders` set.\n",
    "   - Unique Products Ordered: The number of unique products in the `customer_orders` set.\n",
    "   - Percentage of Unique Products Ordered: The percentage of unique products ordered compared to the total available products.\n",
    "   \n",
    "   Store these statistics in a tuple called `order_status`.\n",
    "\n",
    "8. Print the order statistics using the following format:\n",
    "   ```\n",
    "   Order Statistics:\n",
    "   Total Products Ordered: <total_products_ordered>\n",
    "   Unique Products Ordered: <unique_products_ordered>\n",
    "   Percentage of Unique Products Ordered: <percentage_ordered>% \n",
    "   ```\n",
    "\n",
    "9. Update the inventory by subtracting 1 from the quantity of each product. Modify the `inventory` dictionary accordingly.\n",
    "\n",
    "10. Print the updated inventory, displaying the quantity of each product on separate lines.\n",
    "\n",
    "Solve the exercise by implementing the steps using the Python concepts of lists, dictionaries, sets, and basic input/output operations. "
   ]
  }
 ],
 "metadata": {
  "kernelspec": {
   "display_name": "Python 3 (ipykernel)",
   "language": "python",
   "name": "python3"
  },
  "language_info": {
   "codemirror_mode": {
    "name": "ipython",
    "version": 3
   },
   "file_extension": ".py",
   "mimetype": "text/x-python",
   "name": "python",
   "nbconvert_exporter": "python",
   "pygments_lexer": "ipython3",
   "version": "3.11.4"
  }
 },
 "nbformat": 4,
 "nbformat_minor": 4
}
