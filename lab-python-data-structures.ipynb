{
 "cells": [
  {
   "attachments": {},
   "cell_type": "markdown",
   "metadata": {
    "tags": []
   },
   "source": [
    "# Lab | Data Structures "
   ]
  },
  {
   "attachments": {},
   "cell_type": "markdown",
   "metadata": {},
   "source": [
    "## Exercise: Managing Customer Orders\n",
    "\n",
    "As part of a business venture, you are starting an online store that sells various products. To ensure smooth operations, you need to develop a program that manages customer orders and inventory.\n",
    "\n",
    "Follow the steps below to complete the exercise:\n",
    "\n",
    "1. Define a list called `products` that contains the following items: \"t-shirt\", \"mug\", \"hat\", \"book\", \"keychain\".\n",
    "\n",
    "2. Create an empty dictionary called `inventory`.\n",
    "\n",
    "3. Ask the user to input the quantity of each product available in the inventory. Use the product names from the `products` list as keys in the `inventory` dictionary and assign the respective quantities as values.\n",
    "\n",
    "4. Create an empty set called `customer_orders`.\n",
    "\n",
    "5. Ask the user to input the name of three products that a customer wants to order. Add each product name to the `customer_orders` set.\n",
    "\n",
    "6. Print the products in the `customer_orders` set.\n",
    "\n",
    "7. Calculate the following order statistics:\n",
    "   - Total Products Ordered: The total number of products in the `customer_orders` set.\n",
    "   - Unique Products Ordered: The number of unique products in the `customer_orders` set.\n",
    "   - Percentage of Unique Products Ordered: The percentage of unique products ordered compared to the total available products.\n",
    "   \n",
    "   Store these statistics in a tuple called `order_status`.\n",
    "\n",
    "8. Print the order statistics using the following format:\n",
    "   ```\n",
    "   Order Statistics:\n",
    "   Total Products Ordered: <total_products_ordered>\n",
    "   Unique Products Ordered: <unique_products_ordered>\n",
    "   Percentage of Unique Products Ordered: <percentage_ordered>% \n",
    "   ```\n",
    "\n",
    "9. Update the inventory by subtracting 1 from the quantity of each product. Modify the `inventory` dictionary accordingly.\n",
    "\n",
    "10. Print the updated inventory, displaying the quantity of each product on separate lines.\n",
    "\n",
    "Solve the exercise by implementing the steps using the Python concepts of lists, dictionaries, sets, and basic input/output operations. "
   ]
  },
  {
   "attachments": {},
   "cell_type": "markdown",
   "metadata": {},
   "source": [
    "Modification"
   ]
  },
  {
   "cell_type": "code",
   "execution_count": 32,
   "metadata": {},
   "outputs": [
    {
     "name": "stdout",
     "output_type": "stream",
     "text": [
      "Which qunatity of t-shirt do you want ?\n",
      "Which qunatity of mug do you want ?\n",
      "Which qunatity of hat do you want ?\n",
      "Which qunatity of book do you want ?\n",
      "Which qunatity of keychain do you want ?\n"
     ]
    }
   ],
   "source": [
    "products = [\"t-shirt\", \"mug\", \"hat\", \"book\", \"keychain\"]\n",
    "inventory = dict()\n",
    "\n",
    "for i in products :\n",
    "    print(\"Which qunatity of\", i, \"do you want ?\")\n",
    "    inventory[i] = int(input())\n",
    "\n",
    "    "
   ]
  },
  {
   "cell_type": "code",
   "execution_count": 33,
   "metadata": {},
   "outputs": [
    {
     "name": "stdout",
     "output_type": "stream",
     "text": [
      "Enter de product that you want to buy :\n",
      "Enter de product that you want to buy :\n",
      "Enter de product that you want to buy :\n",
      "hat\n",
      "book\n",
      "mug\n",
      "Order Statistics: \n",
      "Total Products Ordered: 3 \n",
      "Unique Products Ordered: 3 \n",
      "Percentage of Unique Products Ordered: 100.0\n"
     ]
    }
   ],
   "source": [
    "customer_orders = set()\n",
    "\n",
    "for i in range(3):\n",
    "    print(\"Enter de product that you want to buy :\")\n",
    "    customer_orders.add(input())\n",
    "\n",
    "for i in customer_orders :\n",
    "    print(i)\n",
    "\n",
    "total_products_order = len(customer_orders)\n",
    "unique_products_order = len(customer_orders)\n",
    "unique_percent = unique_products_order/total_products_order * 100\n",
    "\n",
    "order_status = (total_products_order,unique_products_order,unique_percent)\n",
    "order_status\n",
    "\n",
    "print(\"Order Statistics: \\nTotal Products Ordered:\", order_status[0],\"\\nUnique Products Ordered:\" , order_status[1],\"\\nPercentage of Unique Products Ordered:\", order_status[2])"
   ]
  },
  {
   "cell_type": "code",
   "execution_count": 34,
   "metadata": {},
   "outputs": [
    {
     "name": "stdout",
     "output_type": "stream",
     "text": [
      "{'t-shirt': 2, 'mug': 4, 'hat': 6, 'book': 3, 'keychain': 5}\n"
     ]
    },
    {
     "data": {
      "text/plain": [
       "{'t-shirt': 2, 'mug': 3, 'hat': 5, 'book': 2, 'keychain': 5}"
      ]
     },
     "execution_count": 34,
     "metadata": {},
     "output_type": "execute_result"
    }
   ],
   "source": [
    "print(inventory)\n",
    "\n",
    "for i in customer_orders :\n",
    "    inventory[i] -= 1\n"
   ]
  },
  {
   "cell_type": "code",
   "execution_count": 36,
   "metadata": {},
   "outputs": [
    {
     "name": "stdout",
     "output_type": "stream",
     "text": [
      "t-shirt : 2\n",
      "mug : 3\n",
      "hat : 5\n",
      "book : 2\n",
      "keychain : 5\n"
     ]
    },
    {
     "data": {
      "text/plain": [
       "[None, None, None, None, None]"
      ]
     },
     "execution_count": 36,
     "metadata": {},
     "output_type": "execute_result"
    }
   ],
   "source": [
    "[print(key,':',value) for key, value in inventory.items()]"
   ]
  }
 ],
 "metadata": {
  "kernelspec": {
   "display_name": "Python 3 (ipykernel)",
   "language": "python",
   "name": "python3"
  },
  "language_info": {
   "codemirror_mode": {
    "name": "ipython",
    "version": 3
   },
   "file_extension": ".py",
   "mimetype": "text/x-python",
   "name": "python",
   "nbconvert_exporter": "python",
   "pygments_lexer": "ipython3",
   "version": "3.10.10"
  }
 },
 "nbformat": 4,
 "nbformat_minor": 4
}
