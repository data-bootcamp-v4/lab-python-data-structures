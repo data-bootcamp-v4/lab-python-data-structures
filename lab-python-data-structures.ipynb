{
 "cells": [
  {
   "cell_type": "markdown",
   "metadata": {
    "tags": []
   },
   "source": [
    "# Lab | Data Structures "
   ]
  },
  {
   "cell_type": "markdown",
   "metadata": {},
   "source": [
    "## Exercise: Managing Customer Orders\n",
    "\n",
    "As part of a business venture, you are starting an online store that sells various products. To ensure smooth operations, you need to develop a program that manages customer orders and inventory.\n",
    "\n",
    "Follow the steps below to complete the exercise:\n",
    "\n",
    "1. Define a list called `products` that contains the following items: \"t-shirt\", \"mug\", \"hat\", \"book\", \"keychain\".\n",
    "\n",
    "2. Create an empty dictionary called `inventory`.\n",
    "\n",
    "3. Ask the user to input the quantity of each product available in the inventory. Use the product names from the `products` list as keys in the `inventory` dictionary and assign the respective quantities as values.\n",
    "\n",
    "4. Create an empty set called `customer_orders`.\n",
    "\n",
    "5. Ask the user to input the name of three products that a customer wants to order (from those in the products list, meaning three products out of \"t-shirt\", \"mug\", \"hat\", \"book\" or \"keychain\". Add each product name to the `customer_orders` set.\n",
    "\n",
    "6. Print the products in the `customer_orders` set.\n",
    "\n",
    "7. Calculate the following order statistics:\n",
    "   - Total Products Ordered: The total number of products in the `customer_orders` set.\n",
    "   - Percentage of Products Ordered: The percentage of products ordered compared to the total available products.\n",
    "   \n",
    "   Store these statistics in a tuple called `order_status`.\n",
    "\n",
    "8. Print the order statistics using the following format:\n",
    "   ```\n",
    "   Order Statistics:\n",
    "   Total Products Ordered: <total_products_ordered>\n",
    "   Percentage of Products Ordered: <percentage_ordered>% \n",
    "   ```\n",
    "\n",
    "9. Update the inventory by subtracting 1 from the quantity of each product. Modify the `inventory` dictionary accordingly.\n",
    "\n",
    "10. Print the updated inventory, displaying the quantity of each product on separate lines.\n",
    "\n",
    "Solve the exercise by implementing the steps using the Python concepts of lists, dictionaries, sets, and basic input/output operations. "
   ]
  },
  {
   "cell_type": "code",
   "execution_count": 12,
   "metadata": {},
   "outputs": [
    {
     "name": "stdout",
     "output_type": "stream",
     "text": [
      "Enter the quantity of t-shirt available: 0\n",
      "Enter the quantity of mug available: 10\n",
      "Enter the quantity of hat available: 10\n",
      "Enter the quantity of book available: 10\n",
      "Enter the quantity of keychain available: 0\n",
      "{'t-shirt': 0, 'mug': 10, 'hat': 10, 'book': 10, 'keychain': 0}\n"
     ]
    }
   ],
   "source": [
    "products = [\"t-shirt\", \"mug\", \"hat\", \"book\", \"keychain\"]\n",
    "inventory = {}\n",
    "\n",
    "for product in products:\n",
    "    quantity = int(input(f\"Enter the quantity of {product} available: \"))\n",
    "    inventory[product] = quantity \n",
    "print(inventory)\n",
    "    \n",
    "# Create an empty set called customer_orders\n",
    "customer_orders = set()"
   ]
  },
  {
   "cell_type": "code",
   "execution_count": 13,
   "metadata": {},
   "outputs": [
    {
     "name": "stdout",
     "output_type": "stream",
     "text": [
      "The total products on the inventory are:  30\n"
     ]
    }
   ],
   "source": [
    "inventory_sum = sum (inventory.values())\n",
    "print(\"The total products on the inventory are: \", inventory_sum)"
   ]
  },
  {
   "cell_type": "code",
   "execution_count": 14,
   "metadata": {},
   "outputs": [
    {
     "name": "stdout",
     "output_type": "stream",
     "text": [
      "Enter the name of a product you want to order: t-shirt\n",
      "Enter the name of a product you want to order: mug\n",
      "Enter the name of a product you want to order: book\n",
      "Customer orders: {'t-shirt', 'book', 'mug'}\n"
     ]
    }
   ],
   "source": [
    "# Ask the user to input the name of three products that a customer wants to order. Add each product name to the customer_orders set.\n",
    "while products == [\"t-shirt\", \"mug\", \"hat\", \"book\", \"keychain\"] and len(customer_orders) <3:\n",
    "    product_name = input(\"Enter the name of a product you want to order: \")\n",
    "    if product_name in products:\n",
    "        customer_orders.add(product_name)\n",
    "    else:\n",
    "        print(\"Invalid product name. Try again\")\n",
    "print(\"Customer orders:\", customer_orders)    "
   ]
  },
  {
   "cell_type": "code",
   "execution_count": 15,
   "metadata": {},
   "outputs": [
    {
     "name": "stdout",
     "output_type": "stream",
     "text": [
      "Your order is:  {'t-shirt', 'book', 'mug'}\n"
     ]
    }
   ],
   "source": [
    "print(\"Your order is: \",customer_orders)"
   ]
  },
  {
   "cell_type": "code",
   "execution_count": 16,
   "metadata": {},
   "outputs": [
    {
     "name": "stdout",
     "output_type": "stream",
     "text": [
      "Enter the quantity of t-shirt you want: 2\n",
      "Insufficient inventory for t-shirt. Please choose a lower quantity.\n",
      "Enter the quantity of t-shirt you want: 0\n",
      "Enter the quantity of book you want: 2\n",
      "Enter the quantity of mug you want: 3\n",
      "{'t-shirt': 0, 'book': 2, 'mug': 3}\n"
     ]
    }
   ],
   "source": [
    "customer_number_order = {}\n",
    "for item in customer_orders:\n",
    "    while True:\n",
    "        number = int(input(f\"Enter the quantity of {item} you want: \"))\n",
    "        if number <= inventory[item]:\n",
    "            customer_number_order[item] = number\n",
    "            inventory[item] -= number\n",
    "            break\n",
    "        else:\n",
    "            print(f\"Insufficient inventory for {item}. Please choose a lower quantity.\")\n",
    "    \n",
    "print(customer_number_order)"
   ]
  },
  {
   "cell_type": "code",
   "execution_count": 17,
   "metadata": {},
   "outputs": [
    {
     "name": "stdout",
     "output_type": "stream",
     "text": [
      "The total of products order are:  5\n"
     ]
    }
   ],
   "source": [
    "total_product_order = sum (customer_number_order.values())\n",
    "print('The total of products order are: ', total_product_order)"
   ]
  },
  {
   "cell_type": "code",
   "execution_count": 18,
   "metadata": {},
   "outputs": [
    {
     "name": "stdout",
     "output_type": "stream",
     "text": [
      "Unique products ordered are:  3\n"
     ]
    }
   ],
   "source": [
    "unique_products_ordered = len(customer_orders)\n",
    "print('Unique products ordered are: ', unique_products_ordered)"
   ]
  },
  {
   "cell_type": "code",
   "execution_count": 19,
   "metadata": {},
   "outputs": [
    {
     "name": "stdout",
     "output_type": "stream",
     "text": [
      "The percentage of unique products ordered are: 10.00\n"
     ]
    }
   ],
   "source": [
    "percentage_ordered = unique_products_ordered / inventory_sum *100\n",
    "#print('The percentage of unique products ordered are:',percentage_ordered,\"%\")\n",
    "print('The percentage of unique products ordered are: {:.2f}'.format(percentage_ordered,\"%\"))"
   ]
  },
  {
   "cell_type": "code",
   "execution_count": 20,
   "metadata": {},
   "outputs": [
    {
     "name": "stdout",
     "output_type": "stream",
     "text": [
      "{'t-shirt': 0, 'mug': 7, 'hat': 10, 'book': 8, 'keychain': 0}\n"
     ]
    }
   ],
   "source": [
    "print(inventory)"
   ]
  },
  {
   "cell_type": "code",
   "execution_count": 21,
   "metadata": {},
   "outputs": [],
   "source": [
    "for key in inventory:\n",
    "    inventory[key] -=1 "
   ]
  },
  {
   "cell_type": "code",
   "execution_count": 22,
   "metadata": {},
   "outputs": [
    {
     "name": "stdout",
     "output_type": "stream",
     "text": [
      "{'t-shirt': -1, 'mug': 6, 'hat': 9, 'book': 7, 'keychain': -1}\n"
     ]
    }
   ],
   "source": [
    "print(inventory)"
   ]
  },
  {
   "cell_type": "code",
   "execution_count": 23,
   "metadata": {},
   "outputs": [
    {
     "name": "stdout",
     "output_type": "stream",
     "text": [
      "For the product: t-shirt the quantity are: -1\n",
      "\n",
      "For the product: mug the quantity are: 6\n",
      "\n",
      "For the product: hat the quantity are: 9\n",
      "\n",
      "For the product: book the quantity are: 7\n",
      "\n",
      "For the product: keychain the quantity are: -1\n",
      "\n"
     ]
    }
   ],
   "source": [
    "for key, item in inventory.items():\n",
    "    print(\"For the product:\",key, \"the quantity are:\",item)\n",
    "    print()\n",
    "    "
   ]
  }
 ],
 "metadata": {
  "kernelspec": {
   "display_name": "Python 3 (ipykernel)",
   "language": "python",
   "name": "python3"
  },
  "language_info": {
   "codemirror_mode": {
    "name": "ipython",
    "version": 3
   },
   "file_extension": ".py",
   "mimetype": "text/x-python",
   "name": "python",
   "nbconvert_exporter": "python",
   "pygments_lexer": "ipython3",
   "version": "3.10.9"
  }
 },
 "nbformat": 4,
 "nbformat_minor": 4
}
